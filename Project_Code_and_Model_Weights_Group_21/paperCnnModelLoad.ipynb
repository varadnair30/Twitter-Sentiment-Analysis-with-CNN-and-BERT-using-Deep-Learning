{
  "nbformat": 4,
  "nbformat_minor": 0,
  "metadata": {
    "colab": {
      "provenance": []
    },
    "kernelspec": {
      "name": "python3",
      "display_name": "Python 3"
    },
    "language_info": {
      "name": "python"
    }
  },
  "cells": [
    {
      "cell_type": "code",
      "source": [
        "from google.colab import drive\n",
        "drive.mount('/content/drive')"
      ],
      "metadata": {
        "colab": {
          "base_uri": "https://localhost:8080/"
        },
        "id": "BsOk6cfQt3Ga",
        "outputId": "8dd5feeb-0ddf-4292-8cc7-6c6eb8500ffc"
      },
      "execution_count": 2,
      "outputs": [
        {
          "output_type": "stream",
          "name": "stdout",
          "text": [
            "Drive already mounted at /content/drive; to attempt to forcibly remount, call drive.mount(\"/content/drive\", force_remount=True).\n"
          ]
        }
      ]
    },
    {
      "cell_type": "code",
      "execution_count": 19,
      "metadata": {
        "colab": {
          "base_uri": "https://localhost:8080/"
        },
        "id": "fDiU2p6PU1Q2",
        "outputId": "086f4fd1-043b-4b45-c635-eee8b4af29f8"
      },
      "outputs": [
        {
          "output_type": "stream",
          "name": "stdout",
          "text": [
            "Unique class labels: ['Neutral' 'Positive' 'Negative']\n"
          ]
        }
      ],
      "source": [
        "import numpy as np\n",
        "import pandas as pd\n",
        "import tensorflow as tf\n",
        "from gensim.models import KeyedVectors\n",
        "from sklearn.preprocessing import LabelEncoder\n",
        "from tensorflow.keras.models import load_model\n",
        "from tensorflow.keras.utils import to_categorical\n",
        "from tensorflow.keras.preprocessing.sequence import pad_sequences\n",
        "import re\n",
        "\n",
        "def clean_text(text):\n",
        "    text = re.sub(r'https?://\\S+', '', text)\n",
        "    text = re.sub(r'\\d+', '', text)\n",
        "    text = re.sub(r'[^A-Za-z\\s]', '', text)\n",
        "    text = text.lower()\n",
        "    return text\n",
        "\n",
        "def vectorize_sentence(sentence, word_vectors, max_length=39):\n",
        "    words = sentence.split()\n",
        "    vectorized = [word_vectors[word] if word in word_vectors else np.zeros(300) for word in words[:max_length]]\n",
        "    if len(vectorized) < max_length:\n",
        "        vectorized.extend([np.zeros(300) for _ in range(max_length - len(vectorized))])\n",
        "    return np.array([vectorized])\n",
        "\n",
        "\n",
        "def predict_sentiment(texts, word_vectors, model):\n",
        "    labels = ['Negative', 'Neutral', 'Positive']\n",
        "    vectorized_texts = np.vstack([vectorize_sentence(text, word_vectors) for text in texts])\n",
        "    predictions = model.predict(vectorized_texts)\n",
        "    predicted_class_indices = np.argmax(predictions, axis=1)\n",
        "    predicted_labels = [labels[idx] for idx in predicted_class_indices]\n",
        "    return predicted_labels\n",
        "\n",
        "df_smile = pd.read_csv('/content/drive/MyDrive/smile-annotations-final.csv', names=['id', 'text', 'category'])\n",
        "df_smile['text'] = df_smile['text'].apply(clean_text)\n",
        "sentiment_map = {\n",
        "    'angry': 'Negative', 'disgust': 'Negative', 'disgust|angry': 'Negative',\n",
        "    'happy': 'Positive', 'happy|sad': 'Positive',\n",
        "    'nocode': 'Neutral', 'not-relevant': 'Neutral',\n",
        "    'sad': 'Negative', 'sad|angry': 'Negative', 'sad|disgust': 'Negative',\n",
        "    'sad|disgust|angry': 'Negative', 'surprise': 'Neutral'\n",
        "}\n",
        "df_smile['category'] = df_smile['category'].map(sentiment_map)\n",
        "\n",
        "df_smile = df_smile.dropna(subset=['category'])\n",
        "print(\"Unique class labels:\", df_smile['category'].unique())"
      ]
    },
    {
      "cell_type": "code",
      "source": [
        "!gdown --id \"0B7XkCwpI5KDYNlNUTTlSS21pQmM\""
      ],
      "metadata": {
        "colab": {
          "base_uri": "https://localhost:8080/"
        },
        "id": "CeqTwVM9VAXG",
        "outputId": "6295c7bd-4a07-4428-8ad8-e74316976ac6"
      },
      "execution_count": 3,
      "outputs": [
        {
          "output_type": "stream",
          "name": "stdout",
          "text": [
            "/usr/local/lib/python3.10/dist-packages/gdown/__main__.py:132: FutureWarning: Option `--id` was deprecated in version 4.3.1 and will be removed in 5.0. You don't need to pass it anymore to use a file ID.\n",
            "  warnings.warn(\n",
            "Downloading...\n",
            "From (original): https://drive.google.com/uc?id=0B7XkCwpI5KDYNlNUTTlSS21pQmM\n",
            "From (redirected): https://drive.google.com/uc?id=0B7XkCwpI5KDYNlNUTTlSS21pQmM&confirm=t&uuid=356a57d0-99b1-49d1-bfcd-3a544aa1001a\n",
            "To: /content/GoogleNews-vectors-negative300.bin.gz\n",
            "100% 1.65G/1.65G [00:17<00:00, 92.8MB/s]\n"
          ]
        }
      ]
    },
    {
      "cell_type": "code",
      "source": [
        "\n",
        "word_vectors = KeyedVectors.load_word2vec_format('/content/GoogleNews-vectors-negative300.bin.gz', binary=True)\n",
        "\n"
      ],
      "metadata": {
        "id": "EeYTB_vuVAvo"
      },
      "execution_count": 20,
      "outputs": []
    },
    {
      "cell_type": "code",
      "source": [
        "\n",
        "model = load_model('/content/drive/MyDrive/PaperCNN.keras')\n",
        "\n",
        "\n",
        "test_texts = [\n",
        "    \"I love this product! Absolutely wonderful!\",\n",
        "    \"This is the worst experience I ever had.\",\n",
        "    \"I think this is okay, not too bad but could be better.\",\n",
        "    \"The two works in our free #DuccioCaro exhibition play with space, movement, and architecture.\",\n",
        "    \"Merci pour le partage!\",\n",
        "    \"Say what, mate?\"\n",
        "]\n",
        "cleaned_texts = [clean_text(text) for text in test_texts]\n",
        "predicted_sentiments = predict_sentiment(cleaned_texts, word_vectors, model)\n",
        "for text, sentiment in zip(cleaned_texts, predicted_sentiments):\n",
        "    print(f'Text: {text}\\nPredicted Sentiment: {sentiment}\\n')\n"
      ],
      "metadata": {
        "colab": {
          "base_uri": "https://localhost:8080/"
        },
        "id": "0BxEvgRzVUK5",
        "outputId": "ff1f8580-eefe-40f4-90b3-fd93239c61de"
      },
      "execution_count": 24,
      "outputs": [
        {
          "output_type": "stream",
          "name": "stdout",
          "text": [
            "1/1 [==============================] - 0s 107ms/step\n",
            "Text: i love this product absolutely wonderful\n",
            "Predicted Sentiment: Positive\n",
            "\n",
            "Text: this is the worst experience i ever had\n",
            "Predicted Sentiment: Positive\n",
            "\n",
            "Text: i think this is okay not too bad but could be better\n",
            "Predicted Sentiment: Positive\n",
            "\n",
            "Text: the two works in our free ducciocaro exhibition play with space movement and architecture\n",
            "Predicted Sentiment: Neutral\n",
            "\n",
            "Text: merci pour le partage\n",
            "Predicted Sentiment: Neutral\n",
            "\n",
            "Text: say what mate\n",
            "Predicted Sentiment: Neutral\n",
            "\n"
          ]
        }
      ]
    },
    {
      "cell_type": "code",
      "source": [],
      "metadata": {
        "id": "0U8v6IkMKutj"
      },
      "execution_count": null,
      "outputs": []
    }
  ]
}