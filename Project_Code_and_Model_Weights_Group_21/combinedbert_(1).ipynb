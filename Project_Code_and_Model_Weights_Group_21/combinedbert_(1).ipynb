{
  "cells": [
    {
      "cell_type": "code",
      "execution_count": null,
      "metadata": {
        "_cell_guid": "b1076dfc-b9ad-4769-8c92-a6c4dae69d19",
        "_uuid": "8f2839f25d086af736a60e9eeb907d3b93b6e0e5",
        "execution": {
          "iopub.execute_input": "2024-04-26T17:42:03.103842Z",
          "iopub.status.busy": "2024-04-26T17:42:03.103030Z",
          "iopub.status.idle": "2024-04-26T17:42:44.466807Z",
          "shell.execute_reply": "2024-04-26T17:42:44.465847Z",
          "shell.execute_reply.started": "2024-04-26T17:42:03.103809Z"
        },
        "id": "DfyzqupAfwiS",
        "outputId": "674384ab-bf9b-4cb8-a133-6a992f7ecbe3"
      },
      "outputs": [
        {
          "name": "stderr",
          "output_type": "stream",
          "text": [
            "2024-04-26 17:42:11.361738: E external/local_xla/xla/stream_executor/cuda/cuda_dnn.cc:9261] Unable to register cuDNN factory: Attempting to register factory for plugin cuDNN when one has already been registered\n",
            "2024-04-26 17:42:11.361837: E external/local_xla/xla/stream_executor/cuda/cuda_fft.cc:607] Unable to register cuFFT factory: Attempting to register factory for plugin cuFFT when one has already been registered\n",
            "2024-04-26 17:42:11.485150: E external/local_xla/xla/stream_executor/cuda/cuda_blas.cc:1515] Unable to register cuBLAS factory: Attempting to register factory for plugin cuBLAS when one has already been registered\n"
          ]
        },
        {
          "name": "stdout",
          "output_type": "stream",
          "text": [
            "Previous number of rows in the DataFrame: 1603085\n",
            "Missing values in 'category' after removal: 0\n",
            "Updated number of rows in the DataFrame: 1603074\n"
          ]
        }
      ],
      "source": [
        "import pandas as pd\n",
        "import numpy as np\n",
        "import re\n",
        "from transformers import TFBertModel, BertTokenizer\n",
        "from tensorflow.keras.layers import Input, Lambda, Dense, Dropout\n",
        "from tensorflow.keras.models import Model\n",
        "from tensorflow.keras.utils import plot_model\n",
        "from tensorflow.keras.utils import to_categorical\n",
        "from tensorflow.keras.callbacks import EarlyStopping, ModelCheckpoint\n",
        "import tensorflow as tf\n",
        "from sklearn.model_selection import train_test_split\n",
        "from sklearn.preprocessing import LabelEncoder\n",
        "\n",
        "\n",
        "def clean_text(text):\n",
        "    text = re.sub(r'https?://\\S+', '', text)\n",
        "    text = re.sub(r'\\d+', '', text)\n",
        "    text = re.sub(r'[^A-Za-z\\s]', '', text)\n",
        "    text = text.lower()\n",
        "    return text\n",
        "\n",
        "\n",
        "df_smile = pd.read_csv('/kaggle/input/bertcombined/smile-annotations-final.csv', names=['id', 'text', 'category'])\n",
        "df_smile['text'] = df_smile['text'].apply(clean_text)\n",
        "sentiment_map = {\n",
        "    'angry': 'Negative', 'disgust': 'Negative', 'disgust|angry': 'Negative',\n",
        "    'happy': 'Positive', 'happy|sad': 'Positive',\n",
        "    'nocode': 'Neutral', 'not-relevant': 'Neutral',\n",
        "    'sad': 'Negative', 'sad|angry': 'Negative', 'sad|disgust': 'Negative',\n",
        "    'sad|disgust|angry': 'Negative', 'surprise': 'Neutral'\n",
        "}\n",
        "df_smile['category'] = df_smile['category'].map(sentiment_map)\n",
        "\n",
        "\n",
        "df_s140 = pd.read_csv('/kaggle/input/bertcombined/training.1600000.processed.noemoticon.csv', encoding='latin-1', names=['target', 'ids', 'date', 'flag', 'user', 'text'])\n",
        "df_s140['text'] = df_s140['text'].apply(clean_text)\n",
        "df_s140 = df_s140[['text', 'target']]\n",
        "df_s140['target'] = df_s140['target'].map({0: 'Negative', 4: 'Positive'})\n",
        "\n",
        "\n",
        "df_combined = pd.concat([df_smile[['text', 'category']], df_s140.rename(columns={'target': 'category'})], ignore_index=True)\n",
        "print(\"Previous number of rows in the DataFrame:\", len(df_combined))\n",
        "df_combined.dropna(subset=['category'], inplace=True)\n",
        "\n",
        "df_combined.reset_index(drop=True, inplace=True)\n",
        "\n",
        "\n",
        "print(\"Missing values in 'category' after removal:\", df_combined['category'].isna().sum())\n",
        "print(\"Updated number of rows in the DataFrame:\", len(df_combined))\n",
        "\n"
      ]
    },
    {
      "cell_type": "code",
      "execution_count": null,
      "metadata": {
        "execution": {
          "iopub.execute_input": "2024-04-26T17:42:51.502490Z",
          "iopub.status.busy": "2024-04-26T17:42:51.501810Z",
          "iopub.status.idle": "2024-04-26T17:42:58.973054Z",
          "shell.execute_reply": "2024-04-26T17:42:58.972095Z",
          "shell.execute_reply.started": "2024-04-26T17:42:51.502461Z"
        },
        "colab": {
          "referenced_widgets": [
            "f59efced492b41edabb843ee6face153",
            "afc7c8e1a2344d1e90da3b723b22c876",
            "5710ecc453414e51852e772661a8c04b",
            "73b342a7c3124747a142324031fa1e8d",
            "cec6b6e725a7425a8e45f753fc0f0fc8"
          ]
        },
        "id": "Pdn3Zz96fwiV",
        "outputId": "2f845d60-ca28-493e-b654-391648d72b37"
      },
      "outputs": [
        {
          "data": {
            "application/vnd.jupyter.widget-view+json": {
              "model_id": "f59efced492b41edabb843ee6face153",
              "version_major": 2,
              "version_minor": 0
            },
            "text/plain": [
              "tokenizer_config.json:   0%|          | 0.00/48.0 [00:00<?, ?B/s]"
            ]
          },
          "metadata": {},
          "output_type": "display_data"
        },
        {
          "data": {
            "application/vnd.jupyter.widget-view+json": {
              "model_id": "afc7c8e1a2344d1e90da3b723b22c876",
              "version_major": 2,
              "version_minor": 0
            },
            "text/plain": [
              "vocab.txt:   0%|          | 0.00/232k [00:00<?, ?B/s]"
            ]
          },
          "metadata": {},
          "output_type": "display_data"
        },
        {
          "data": {
            "application/vnd.jupyter.widget-view+json": {
              "model_id": "5710ecc453414e51852e772661a8c04b",
              "version_major": 2,
              "version_minor": 0
            },
            "text/plain": [
              "tokenizer.json:   0%|          | 0.00/466k [00:00<?, ?B/s]"
            ]
          },
          "metadata": {},
          "output_type": "display_data"
        },
        {
          "data": {
            "application/vnd.jupyter.widget-view+json": {
              "model_id": "73b342a7c3124747a142324031fa1e8d",
              "version_major": 2,
              "version_minor": 0
            },
            "text/plain": [
              "config.json:   0%|          | 0.00/570 [00:00<?, ?B/s]"
            ]
          },
          "metadata": {},
          "output_type": "display_data"
        },
        {
          "data": {
            "application/vnd.jupyter.widget-view+json": {
              "model_id": "cec6b6e725a7425a8e45f753fc0f0fc8",
              "version_major": 2,
              "version_minor": 0
            },
            "text/plain": [
              "model.safetensors:   0%|          | 0.00/440M [00:00<?, ?B/s]"
            ]
          },
          "metadata": {},
          "output_type": "display_data"
        },
        {
          "name": "stderr",
          "output_type": "stream",
          "text": [
            "Some weights of the PyTorch model were not used when initializing the TF 2.0 model TFBertModel: ['cls.seq_relationship.bias', 'cls.predictions.bias', 'cls.predictions.transform.LayerNorm.bias', 'cls.seq_relationship.weight', 'cls.predictions.transform.LayerNorm.weight', 'cls.predictions.transform.dense.bias', 'cls.predictions.transform.dense.weight']\n",
            "- This IS expected if you are initializing TFBertModel from a PyTorch model trained on another task or with another architecture (e.g. initializing a TFBertForSequenceClassification model from a BertForPreTraining model).\n",
            "- This IS NOT expected if you are initializing TFBertModel from a PyTorch model that you expect to be exactly identical (e.g. initializing a TFBertForSequenceClassification model from a BertForSequenceClassification model).\n",
            "All the weights of TFBertModel were initialized from the PyTorch model.\n",
            "If your task is similar to the task the model of the checkpoint was trained on, you can already use TFBertModel for predictions without further training.\n"
          ]
        }
      ],
      "source": [
        "\n",
        "label_encoder = LabelEncoder()\n",
        "labels = label_encoder.fit_transform(df_combined['category'])\n",
        "labels = to_categorical(labels)\n",
        "\n",
        "\n",
        "tokenizer = BertTokenizer.from_pretrained('bert-base-uncased')\n",
        "bert_model = TFBertModel.from_pretrained('bert-base-uncased')"
      ]
    },
    {
      "cell_type": "code",
      "execution_count": null,
      "metadata": {
        "execution": {
          "iopub.execute_input": "2024-04-26T17:43:04.393295Z",
          "iopub.status.busy": "2024-04-26T17:43:04.392705Z",
          "iopub.status.idle": "2024-04-26T17:58:09.676223Z",
          "shell.execute_reply": "2024-04-26T17:58:09.675377Z",
          "shell.execute_reply.started": "2024-04-26T17:43:04.393267Z"
        },
        "id": "NDPO-1mxfwiV"
      },
      "outputs": [],
      "source": [
        "def encode_texts(texts, max_length=64):\n",
        "    return tokenizer.batch_encode_plus(texts, padding=True, truncation=True, max_length=max_length, return_tensors=\"tf\")\n",
        "\n",
        "encoded_texts = encode_texts(df_combined['text'].tolist())\n",
        "input_ids = encoded_texts['input_ids'].numpy()\n",
        "attention_mask = encoded_texts['attention_mask'].numpy()"
      ]
    },
    {
      "cell_type": "code",
      "execution_count": null,
      "metadata": {
        "execution": {
          "iopub.execute_input": "2024-04-26T18:09:11.333968Z",
          "iopub.status.busy": "2024-04-26T18:09:11.333621Z",
          "iopub.status.idle": "2024-04-26T18:09:12.813101Z",
          "shell.execute_reply": "2024-04-26T18:09:12.812084Z",
          "shell.execute_reply.started": "2024-04-26T18:09:11.333942Z"
        },
        "id": "aBuhRcxlfwiW",
        "outputId": "ab15de37-0239-4212-d1f4-1334de78ab68"
      },
      "outputs": [
        {
          "name": "stdout",
          "output_type": "stream",
          "text": [
            "Output shape from BERT: (1, 128, 768)\n"
          ]
        }
      ],
      "source": [
        "import tensorflow as tf\n",
        "\n",
        "dummy_input_ids = tf.constant([[0]*128])\n",
        "dummy_attention_mask = tf.constant([[1]*128])\n",
        "\n",
        "# Assuming bert_model is a callable model\n",
        "bert_outputs = bert_model([dummy_input_ids, dummy_attention_mask])\n",
        "print(\"Output shape from BERT:\", bert_outputs[0].shape)\n"
      ]
    },
    {
      "cell_type": "code",
      "execution_count": null,
      "metadata": {
        "execution": {
          "iopub.execute_input": "2024-04-26T18:09:18.419005Z",
          "iopub.status.busy": "2024-04-26T18:09:18.418329Z",
          "iopub.status.idle": "2024-04-26T18:09:19.188650Z",
          "shell.execute_reply": "2024-04-26T18:09:19.187652Z",
          "shell.execute_reply.started": "2024-04-26T18:09:18.418971Z"
        },
        "id": "21ju5OlVfwiW"
      },
      "outputs": [],
      "source": [
        "\n",
        "X_train_ids, X_val_ids, y_train, y_val = train_test_split(input_ids, labels, test_size=0.2, random_state=42)\n",
        "X_train_mask, X_val_mask, _, _ = train_test_split(attention_mask, labels, test_size=0.2, random_state=42)\n",
        "\n",
        "\n",
        "input_ids_layer = Input(shape=(None,), dtype=tf.int32, name='input_ids')\n",
        "attention_mask_layer = Input(shape=(None,), dtype=tf.int32, name='attention_mask')\n",
        "bert_output = Lambda(lambda x: bert_model(x)[0][:,0],\n",
        "                     output_shape=(768,))([input_ids_layer, attention_mask_layer])\n",
        "dropout_layer = Dropout(0.3)(bert_output)\n",
        "classifier_layer = Dense(len(label_encoder.classes_), activation='softmax')(dropout_layer)\n",
        "model = Model(inputs=[input_ids_layer, attention_mask_layer], outputs=classifier_layer)\n",
        "\n",
        "model.compile(optimizer='adam', loss='categorical_crossentropy', metrics=['accuracy'])"
      ]
    },
    {
      "cell_type": "code",
      "execution_count": null,
      "metadata": {
        "execution": {
          "iopub.execute_input": "2024-04-26T18:12:20.065191Z",
          "iopub.status.busy": "2024-04-26T18:12:20.064345Z",
          "iopub.status.idle": "2024-04-26T19:49:51.610412Z",
          "shell.execute_reply": "2024-04-26T19:49:51.609573Z",
          "shell.execute_reply.started": "2024-04-26T18:12:20.065157Z"
        },
        "id": "b0AndixWfwiW",
        "outputId": "925f70eb-cf60-4161-cfdc-0196f00bfd6d"
      },
      "outputs": [
        {
          "name": "stdout",
          "output_type": "stream",
          "text": [
            "Epoch 1/2\n",
            "\u001b[1m40077/40077\u001b[0m \u001b[32m━━━━━━━━━━━━━━━━━━━━\u001b[0m\u001b[37m\u001b[0m \u001b[1m2914s\u001b[0m 73ms/step - accuracy: 0.7446 - loss: 0.5236 - val_accuracy: 0.7690 - val_loss: 0.4874\n",
            "Epoch 2/2\n",
            "\u001b[1m40077/40077\u001b[0m \u001b[32m━━━━━━━━━━━━━━━━━━━━\u001b[0m\u001b[37m\u001b[0m \u001b[1m2936s\u001b[0m 73ms/step - accuracy: 0.7497 - loss: 0.5157 - val_accuracy: 0.7663 - val_loss: 0.4920\n"
          ]
        }
      ],
      "source": [
        "early_stopping = EarlyStopping(monitor='val_loss', patience=3)\n",
        "plot_model(model, to_file='bert_model_with_regularization.png', show_shapes=True, show_layer_names=True)\n",
        "history = model.fit([X_train_ids, X_train_mask], y_train, batch_size=32, epochs=2,\n",
        "                    validation_data=([X_val_ids, X_val_mask], y_val),\n",
        "                    callbacks=[early_stopping])\n",
        "\n"
      ]
    },
    {
      "cell_type": "code",
      "execution_count": null,
      "metadata": {
        "execution": {
          "iopub.execute_input": "2024-04-26T19:52:33.077491Z",
          "iopub.status.busy": "2024-04-26T19:52:33.076782Z",
          "iopub.status.idle": "2024-04-26T19:52:33.146215Z",
          "shell.execute_reply": "2024-04-26T19:52:33.145471Z",
          "shell.execute_reply.started": "2024-04-26T19:52:33.077462Z"
        },
        "id": "l3omhEBSfwiW"
      },
      "outputs": [],
      "source": [
        "\n",
        "model.save_weights('BertModel.weights.h5')\n",
        "model.save('BertModelFull.keras')\n",
        "\n",
        "\n",
        "tokenizer.save_pretrained('./')\n",
        "bert_model.config.save_pretrained('./')"
      ]
    },
    {
      "cell_type": "code",
      "execution_count": null,
      "metadata": {
        "execution": {
          "iopub.execute_input": "2024-04-26T19:55:22.426099Z",
          "iopub.status.busy": "2024-04-26T19:55:22.425379Z",
          "iopub.status.idle": "2024-04-26T20:04:34.985562Z",
          "shell.execute_reply": "2024-04-26T20:04:34.983376Z",
          "shell.execute_reply.started": "2024-04-26T19:55:22.426071Z"
        },
        "id": "_ZVSdvjafwiW"
      },
      "outputs": [],
      "source": [
        "from sklearn.metrics import confusion_matrix, classification_report,ConfusionMatrixDisplay\n",
        "import numpy as np\n",
        "\n",
        "\n",
        "predictions = model.predict([X_val_ids, X_val_mask])\n",
        "\n",
        "\n"
      ]
    },
    {
      "cell_type": "code",
      "execution_count": null,
      "metadata": {
        "execution": {
          "iopub.execute_input": "2024-04-26T20:06:44.928734Z",
          "iopub.status.busy": "2024-04-26T20:06:44.927753Z",
          "iopub.status.idle": "2024-04-26T20:06:45.908220Z",
          "shell.execute_reply": "2024-04-26T20:06:45.907335Z",
          "shell.execute_reply.started": "2024-04-26T20:06:44.928702Z"
        },
        "id": "QNtaFdMLfwiX",
        "outputId": "9a015946-047a-4512-9d0a-d9a961bcd561"
      },
      "outputs": [
        {
          "name": "stdout",
          "output_type": "stream",
          "text": [
            "Confusion Matrix:\n",
            "[[129248     15  30030]\n",
            " [    25    213     99]\n",
            " [ 44683     64 116238]]\n",
            "Classification Report:\n",
            "              precision    recall  f1-score   support\n",
            "\n",
            "    Positive       0.74      0.81      0.78    159293\n",
            "    Negative       0.73      0.63      0.68       337\n",
            "     Neutral       0.79      0.72      0.76    160985\n",
            "\n",
            "    accuracy                           0.77    320615\n",
            "   macro avg       0.76      0.72      0.74    320615\n",
            "weighted avg       0.77      0.77      0.77    320615\n",
            "\n",
            "Accuracy: 0.76634\n",
            "Precision: 0.76867\n",
            "Recall: 0.76634\n",
            "F1 Score: 0.76589\n"
          ]
        },
        {
          "data": {
            "image/png": "[encoded data removed]",
            "text/plain": [
              "<Figure size 640x480 with 2 Axes>"
            ]
          },
          "metadata": {},
          "output_type": "display_data"
        }
      ],
      "source": [
        "predicted_classes = np.argmax(predictions, axis=1)\n",
        "true_classes = np.argmax(y_val, axis=1)\n",
        "\n",
        "conf_matrix = confusion_matrix(true_classes, predicted_classes)\n",
        "print(\"Confusion Matrix:\")\n",
        "print(conf_matrix)\n",
        "conf_matrix2 = ConfusionMatrixDisplay(confusion_matrix=conf_matrix)\n",
        "conf_matrix2.plot()\n",
        "\n",
        "report = classification_report(true_classes, predicted_classes, target_names=[\"Positive\",\"Negative\",\"Neutral\"])\n",
        "print(\"Classification Report:\")\n",
        "print(report)\n",
        "\n",
        "from sklearn.metrics import accuracy_score, precision_score, recall_score, f1_score\n",
        "\n",
        "accuracy = accuracy_score(true_classes, predicted_classes)\n",
        "precision = precision_score(true_classes, predicted_classes, average='weighted')\n",
        "recall = recall_score(true_classes, predicted_classes, average='weighted')\n",
        "f1 = f1_score(true_classes, predicted_classes, average='weighted')\n",
        "\n",
        "print(f\"Accuracy: {accuracy:.5f}\")\n",
        "print(f\"Precision: {precision:.5f}\")\n",
        "print(f\"Recall: {recall:.5f}\")\n",
        "print(f\"F1 Score: {f1:.5f}\")"
      ]
    },
    {
      "cell_type": "code",
      "execution_count": null,
      "metadata": {
        "id": "ixYqsQjxfwiX",
        "outputId": "6273edf0-a654-4611-df9e-0c9463c0e297"
      },
      "outputs": [
        {
          "data": {
            "image/png": "[encoded data removed]",
            "text/plain": [
              "<Figure size 1200x600 with 2 Axes>"
            ]
          },
          "metadata": {},
          "output_type": "display_data"
        }
      ],
      "source": [
        "#We plot the graphs using the values from the training epochs\n",
        "import matplotlib.pyplot as plt\n",
        "epochs = [1, 2]\n",
        "train_accuracy = [0.7446, 0.7497]\n",
        "validation_accuracy = [0.7690, 0.7663]\n",
        "train_loss = [0.5236, 0.5157]\n",
        "validation_loss = [0.4874, 0.4920]\n",
        "\n",
        "\n",
        "\n",
        "plt.figure(figsize=(12, 6))\n",
        "\n",
        "plt.subplot(1, 2, 1)\n",
        "plt.plot(epochs, train_accuracy, label='Training Accuracy')\n",
        "plt.plot(epochs, validation_accuracy, label='Validation Accuracy')\n",
        "plt.title('Training and Validation Accuracy after 2 epochs')\n",
        "plt.ylabel('Accuracy')\n",
        "plt.xlabel('Epoch')\n",
        "plt.legend(loc='best')\n",
        "plt.ylim(0.6,1.0)\n",
        "plt.xticks([1, 2])\n",
        "\n",
        "plt.subplot(1, 2, 2)\n",
        "plt.plot(epochs, train_loss, label='Training Loss')\n",
        "plt.plot(epochs, validation_loss, label='Validation Loss')\n",
        "plt.title('Training and Validation Loss after 2 epochs')\n",
        "plt.ylabel('Loss')\n",
        "plt.xlabel('Epoch')\n",
        "plt.legend(loc='best')\n",
        "plt.ylim(0.53,0.42)\n",
        "plt.xticks([1, 2])\n",
        "\n",
        "plt.tight_layout()\n",
        "plt.show()\n"
      ]
    },
    {
      "cell_type": "code",
      "execution_count": null,
      "metadata": {
        "id": "vVEeGH7efwiX"
      },
      "outputs": [],
      "source": []
    }
  ],
  "metadata": {
    "kaggle": {
      "accelerator": "gpu",
      "dataSources": [
        {
          "datasetId": 4887242,
          "sourceId": 8238998,
          "sourceType": "datasetVersion"
        }
      ],
      "dockerImageVersionId": 30699,
      "isGpuEnabled": true,
      "isInternetEnabled": true,
      "language": "python",
      "sourceType": "notebook"
    },
    "kernelspec": {
      "display_name": "Python 3",
      "language": "python",
      "name": "python3"
    },
    "language_info": {
      "codemirror_mode": {
        "name": "ipython",
        "version": 3
      },
      "file_extension": ".py",
      "mimetype": "text/x-python",
      "name": "python",
      "nbconvert_exporter": "python",
      "pygments_lexer": "ipython3",
      "version": "3.8.5"
    },
    "colab": {
      "provenance": []
    }
  },
  "nbformat": 4,
  "nbformat_minor": 0
}