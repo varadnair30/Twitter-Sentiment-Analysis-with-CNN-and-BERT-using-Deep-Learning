{
  "nbformat": 4,
  "nbformat_minor": 0,
  "metadata": {
    "colab": {
      "provenance": [],
      "gpuType": "T4"
    },
    "kernelspec": {
      "name": "python3",
      "display_name": "Python 3"
    },
    "language_info": {
      "name": "python"
    },
    "accelerator": "GPU"
  },
  "cells": [
    {
      "cell_type": "code",
      "source": [
        "from google.colab import drive\n",
        "drive.mount('/content/drive/')"
      ],
      "metadata": {
        "colab": {
          "base_uri": "https://localhost:8080/"
        },
        "id": "5-GfFyb7017i",
        "outputId": "6d7face6-6598-4bae-f653-1c66676da462"
      },
      "execution_count": null,
      "outputs": [
        {
          "output_type": "stream",
          "name": "stdout",
          "text": [
            "Mounted at /content/drive/\n"
          ]
        }
      ]
    },
    {
      "cell_type": "code",
      "execution_count": null,
      "metadata": {
        "id": "cVEquIZs0cL9"
      },
      "outputs": [],
      "source": [
        "import pandas as pd\n",
        "import numpy as np\n",
        "from gensim.models import KeyedVectors\n",
        "from tensorflow.keras.preprocessing.sequence import pad_sequences\n",
        "from tensorflow.keras.models import Sequential\n",
        "from tensorflow.keras.layers import Conv1D, GlobalMaxPooling1D, Dense, Dropout\n",
        "from tensorflow.keras.layers import PReLU, Embedding\n",
        "from tensorflow.keras.utils import to_categorical\n",
        "from sklearn.model_selection import train_test_split\n",
        "from sklearn.preprocessing import LabelEncoder\n",
        "import re"
      ]
    },
    {
      "cell_type": "code",
      "source": [
        "def clean_text(text):\n",
        "    text = re.sub(r'https?://\\S+', '', text)\n",
        "    text = re.sub(r'\\d+', '', text)\n",
        "    text = re.sub(r'[^A-Za-z\\s]', '', text)\n",
        "    text = text.lower()\n",
        "    return text\n",
        "df_smile = pd.read_csv('smile-annotations-final.csv', names=['id', 'text', 'category'])\n",
        "df_smile['text'] = df_smile['text'].apply(clean_text)\n",
        "sentiment_map = {\n",
        "    'angry': 'Negative', 'disgust': 'Negative', 'disgust|angry': 'Negative',\n",
        "    'happy': 'Positive', 'happy|sad': 'Positive',\n",
        "    'nocode': 'Neutral', 'not-relevant': 'Neutral',\n",
        "    'sad': 'Negative', 'sad|angry': 'Negative', 'sad|disgust': 'Negative',\n",
        "    'sad|disgust|angry': 'Negative', 'surprise': 'Neutral'\n",
        "}\n",
        "df_smile['category'] = df_smile['category'].map(sentiment_map)"
      ],
      "metadata": {
        "id": "MTGwJASb0e8A"
      },
      "execution_count": null,
      "outputs": []
    },
    {
      "cell_type": "code",
      "source": [
        "df_smile.head()"
      ],
      "metadata": {
        "colab": {
          "base_uri": "https://localhost:8080/",
          "height": 206
        },
        "id": "wOYkt9e7R6jE",
        "outputId": "9d2135cd-335c-4fce-b94a-2c4cbe23bf12"
      },
      "execution_count": null,
      "outputs": [
        {
          "output_type": "execute_result",
          "data": {
            "text/plain": [
              "                   id                                               text  \\\n",
              "0  611857364396965889  aandraous britishmuseum andrewsantonio merci p...   \n",
              "1  614484565059596288  dorian gray with rainbow scarf lovewins from b...   \n",
              "2  614746522043973632  selectshowcase tatestives  replace with your w...   \n",
              "3  614877582664835073  sofabsports thank you for following me back gr...   \n",
              "4  611932373039644672  britishmuseum tudorhistory what a beautiful je...   \n",
              "\n",
              "   category  \n",
              "0   Neutral  \n",
              "1  Positive  \n",
              "2  Positive  \n",
              "3  Positive  \n",
              "4  Positive  "
            ],
            "text/html": [
              "\n",
              "  <div id=\"df-3a581a7d-29bc-4af9-86ba-72b997c78c10\" class=\"colab-df-container\">\n",
              "    <div>\n",
              "<style scoped>\n",
              "    .dataframe tbody tr th:only-of-type {\n",
              "        vertical-align: middle;\n",
              "    }\n",
              "\n",
              "    .dataframe tbody tr th {\n",
              "        vertical-align: top;\n",
              "    }\n",
              "\n",
              "    .dataframe thead th {\n",
              "        text-align: right;\n",
              "    }\n",
              "</style>\n",
              "<table border=\"1\" class=\"dataframe\">\n",
              "  <thead>\n",
              "    <tr style=\"text-align: right;\">\n",
              "      <th></th>\n",
              "      <th>id</th>\n",
              "      <th>text</th>\n",
              "      <th>category</th>\n",
              "    </tr>\n",
              "  </thead>\n",
              "  <tbody>\n",
              "    <tr>\n",
              "      <th>0</th>\n",
              "      <td>611857364396965889</td>\n",
              "      <td>aandraous britishmuseum andrewsantonio merci p...</td>\n",
              "      <td>Neutral</td>\n",
              "    </tr>\n",
              "    <tr>\n",
              "      <th>1</th>\n",
              "      <td>614484565059596288</td>\n",
              "      <td>dorian gray with rainbow scarf lovewins from b...</td>\n",
              "      <td>Positive</td>\n",
              "    </tr>\n",
              "    <tr>\n",
              "      <th>2</th>\n",
              "      <td>614746522043973632</td>\n",
              "      <td>selectshowcase tatestives  replace with your w...</td>\n",
              "      <td>Positive</td>\n",
              "    </tr>\n",
              "    <tr>\n",
              "      <th>3</th>\n",
              "      <td>614877582664835073</td>\n",
              "      <td>sofabsports thank you for following me back gr...</td>\n",
              "      <td>Positive</td>\n",
              "    </tr>\n",
              "    <tr>\n",
              "      <th>4</th>\n",
              "      <td>611932373039644672</td>\n",
              "      <td>britishmuseum tudorhistory what a beautiful je...</td>\n",
              "      <td>Positive</td>\n",
              "    </tr>\n",
              "  </tbody>\n",
              "</table>\n",
              "</div>\n",
              "    <div class=\"colab-df-buttons\">\n",
              "\n",
              "  <div class=\"colab-df-container\">\n",
              "    <button class=\"colab-df-convert\" onclick=\"convertToInteractive('df-3a581a7d-29bc-4af9-86ba-72b997c78c10')\"\n",
              "            title=\"Convert this dataframe to an interactive table.\"\n",
              "            style=\"display:none;\">\n",
              "\n",
              "  <svg xmlns=\"http://www.w3.org/2000/svg\" height=\"24px\" viewBox=\"0 -960 960 960\">\n",
              "    <path d=\"M120-120v-720h720v720H120Zm60-500h600v-160H180v160Zm220 220h160v-160H400v160Zm0 220h160v-160H400v160ZM180-400h160v-160H180v160Zm440 0h160v-160H620v160ZM180-180h160v-160H180v160Zm440 0h160v-160H620v160Z\"/>\n",
              "  </svg>\n",
              "    </button>\n",
              "\n",
              "  <style>\n",
              "    .colab-df-container {\n",
              "      display:flex;\n",
              "      gap: 12px;\n",
              "    }\n",
              "\n",
              "    .colab-df-convert {\n",
              "      background-color: #E8F0FE;\n",
              "      border: none;\n",
              "      border-radius: 50%;\n",
              "      cursor: pointer;\n",
              "      display: none;\n",
              "      fill: #1967D2;\n",
              "      height: 32px;\n",
              "      padding: 0 0 0 0;\n",
              "      width: 32px;\n",
              "    }\n",
              "\n",
              "    .colab-df-convert:hover {\n",
              "      background-color: #E2EBFA;\n",
              "      box-shadow: 0px 1px 2px rgba(60, 64, 67, 0.3), 0px 1px 3px 1px rgba(60, 64, 67, 0.15);\n",
              "      fill: #174EA6;\n",
              "    }\n",
              "\n",
              "    .colab-df-buttons div {\n",
              "      margin-bottom: 4px;\n",
              "    }\n",
              "\n",
              "    [theme=dark] .colab-df-convert {\n",
              "      background-color: #3B4455;\n",
              "      fill: #D2E3FC;\n",
              "    }\n",
              "\n",
              "    [theme=dark] .colab-df-convert:hover {\n",
              "      background-color: #434B5C;\n",
              "      box-shadow: 0px 1px 3px 1px rgba(0, 0, 0, 0.15);\n",
              "      filter: drop-shadow(0px 1px 2px rgba(0, 0, 0, 0.3));\n",
              "      fill: #FFFFFF;\n",
              "    }\n",
              "  </style>\n",
              "\n",
              "    <script>\n",
              "      const buttonEl =\n",
              "        document.querySelector('#df-3a581a7d-29bc-4af9-86ba-72b997c78c10 button.colab-df-convert');\n",
              "      buttonEl.style.display =\n",
              "        google.colab.kernel.accessAllowed ? 'block' : 'none';\n",
              "\n",
              "      async function convertToInteractive(key) {\n",
              "        const element = document.querySelector('#df-3a581a7d-29bc-4af9-86ba-72b997c78c10');\n",
              "        const dataTable =\n",
              "          await google.colab.kernel.invokeFunction('convertToInteractive',\n",
              "                                                    [key], {});\n",
              "        if (!dataTable) return;\n",
              "\n",
              "        const docLinkHtml = 'Like what you see? Visit the ' +\n",
              "          '<a target=\"_blank\" href=https://colab.research.google.com/notebooks/data_table.ipynb>data table notebook</a>'\n",
              "          + ' to learn more about interactive tables.';\n",
              "        element.innerHTML = '';\n",
              "        dataTable['output_type'] = 'display_data';\n",
              "        await google.colab.output.renderOutput(dataTable, element);\n",
              "        const docLink = document.createElement('div');\n",
              "        docLink.innerHTML = docLinkHtml;\n",
              "        element.appendChild(docLink);\n",
              "      }\n",
              "    </script>\n",
              "  </div>\n",
              "\n",
              "\n",
              "<div id=\"df-60f28ba1-9efa-427c-b1a7-e657b2b516c6\">\n",
              "  <button class=\"colab-df-quickchart\" onclick=\"quickchart('df-60f28ba1-9efa-427c-b1a7-e657b2b516c6')\"\n",
              "            title=\"Suggest charts\"\n",
              "            style=\"display:none;\">\n",
              "\n",
              "<svg xmlns=\"http://www.w3.org/2000/svg\" height=\"24px\"viewBox=\"0 0 24 24\"\n",
              "     width=\"24px\">\n",
              "    <g>\n",
              "        <path d=\"M19 3H5c-1.1 0-2 .9-2 2v14c0 1.1.9 2 2 2h14c1.1 0 2-.9 2-2V5c0-1.1-.9-2-2-2zM9 17H7v-7h2v7zm4 0h-2V7h2v10zm4 0h-2v-4h2v4z\"/>\n",
              "    </g>\n",
              "</svg>\n",
              "  </button>\n",
              "\n",
              "<style>\n",
              "  .colab-df-quickchart {\n",
              "      --bg-color: #E8F0FE;\n",
              "      --fill-color: #1967D2;\n",
              "      --hover-bg-color: #E2EBFA;\n",
              "      --hover-fill-color: #174EA6;\n",
              "      --disabled-fill-color: #AAA;\n",
              "      --disabled-bg-color: #DDD;\n",
              "  }\n",
              "\n",
              "  [theme=dark] .colab-df-quickchart {\n",
              "      --bg-color: #3B4455;\n",
              "      --fill-color: #D2E3FC;\n",
              "      --hover-bg-color: #434B5C;\n",
              "      --hover-fill-color: #FFFFFF;\n",
              "      --disabled-bg-color: #3B4455;\n",
              "      --disabled-fill-color: #666;\n",
              "  }\n",
              "\n",
              "  .colab-df-quickchart {\n",
              "    background-color: var(--bg-color);\n",
              "    border: none;\n",
              "    border-radius: 50%;\n",
              "    cursor: pointer;\n",
              "    display: none;\n",
              "    fill: var(--fill-color);\n",
              "    height: 32px;\n",
              "    padding: 0;\n",
              "    width: 32px;\n",
              "  }\n",
              "\n",
              "  .colab-df-quickchart:hover {\n",
              "    background-color: var(--hover-bg-color);\n",
              "    box-shadow: 0 1px 2px rgba(60, 64, 67, 0.3), 0 1px 3px 1px rgba(60, 64, 67, 0.15);\n",
              "    fill: var(--button-hover-fill-color);\n",
              "  }\n",
              "\n",
              "  .colab-df-quickchart-complete:disabled,\n",
              "  .colab-df-quickchart-complete:disabled:hover {\n",
              "    background-color: var(--disabled-bg-color);\n",
              "    fill: var(--disabled-fill-color);\n",
              "    box-shadow: none;\n",
              "  }\n",
              "\n",
              "  .colab-df-spinner {\n",
              "    border: 2px solid var(--fill-color);\n",
              "    border-color: transparent;\n",
              "    border-bottom-color: var(--fill-color);\n",
              "    animation:\n",
              "      spin 1s steps(1) infinite;\n",
              "  }\n",
              "\n",
              "  @keyframes spin {\n",
              "    0% {\n",
              "      border-color: transparent;\n",
              "      border-bottom-color: var(--fill-color);\n",
              "      border-left-color: var(--fill-color);\n",
              "    }\n",
              "    20% {\n",
              "      border-color: transparent;\n",
              "      border-left-color: var(--fill-color);\n",
              "      border-top-color: var(--fill-color);\n",
              "    }\n",
              "    30% {\n",
              "      border-color: transparent;\n",
              "      border-left-color: var(--fill-color);\n",
              "      border-top-color: var(--fill-color);\n",
              "      border-right-color: var(--fill-color);\n",
              "    }\n",
              "    40% {\n",
              "      border-color: transparent;\n",
              "      border-right-color: var(--fill-color);\n",
              "      border-top-color: var(--fill-color);\n",
              "    }\n",
              "    60% {\n",
              "      border-color: transparent;\n",
              "      border-right-color: var(--fill-color);\n",
              "    }\n",
              "    80% {\n",
              "      border-color: transparent;\n",
              "      border-right-color: var(--fill-color);\n",
              "      border-bottom-color: var(--fill-color);\n",
              "    }\n",
              "    90% {\n",
              "      border-color: transparent;\n",
              "      border-bottom-color: var(--fill-color);\n",
              "    }\n",
              "  }\n",
              "</style>\n",
              "\n",
              "  <script>\n",
              "    async function quickchart(key) {\n",
              "      const quickchartButtonEl =\n",
              "        document.querySelector('#' + key + ' button');\n",
              "      quickchartButtonEl.disabled = true;  // To prevent multiple clicks.\n",
              "      quickchartButtonEl.classList.add('colab-df-spinner');\n",
              "      try {\n",
              "        const charts = await google.colab.kernel.invokeFunction(\n",
              "            'suggestCharts', [key], {});\n",
              "      } catch (error) {\n",
              "        console.error('Error during call to suggestCharts:', error);\n",
              "      }\n",
              "      quickchartButtonEl.classList.remove('colab-df-spinner');\n",
              "      quickchartButtonEl.classList.add('colab-df-quickchart-complete');\n",
              "    }\n",
              "    (() => {\n",
              "      let quickchartButtonEl =\n",
              "        document.querySelector('#df-60f28ba1-9efa-427c-b1a7-e657b2b516c6 button');\n",
              "      quickchartButtonEl.style.display =\n",
              "        google.colab.kernel.accessAllowed ? 'block' : 'none';\n",
              "    })();\n",
              "  </script>\n",
              "</div>\n",
              "\n",
              "    </div>\n",
              "  </div>\n"
            ],
            "application/vnd.google.colaboratory.intrinsic+json": {
              "type": "dataframe",
              "variable_name": "df_smile",
              "summary": "{\n  \"name\": \"df_smile\",\n  \"rows\": 3085,\n  \"fields\": [\n    {\n      \"column\": \"id\",\n      \"properties\": {\n        \"dtype\": \"number\",\n        \"std\": 4950760811642779,\n        \"min\": 387190863773724672,\n        \"max\": 615595635723481088,\n        \"num_unique_values\": 3085,\n        \"samples\": [\n          612663670997258240,\n          613679581602648064,\n          614841238093725696\n        ],\n        \"semantic_type\": \"\",\n        \"description\": \"\"\n      }\n    },\n    {\n      \"column\": \"text\",\n      \"properties\": {\n        \"dtype\": \"string\",\n        \"num_unique_values\": 2926,\n        \"samples\": [\n          \"went to the indigenous australians exhibition britishmuseum this evening  fascinating and fabulous  not too many dots\",\n          \"nationalgallery londoncraftweek how weird you should say that when ive been at barberinstitute and took this pic \",\n          \"britishmuseum thehistoryguy shame about the idiots who post rude comments throughout\"\n        ],\n        \"semantic_type\": \"\",\n        \"description\": \"\"\n      }\n    },\n    {\n      \"column\": \"category\",\n      \"properties\": {\n        \"dtype\": \"category\",\n        \"num_unique_values\": 3,\n        \"samples\": [\n          \"Neutral\",\n          \"Positive\",\n          \"Negative\"\n        ],\n        \"semantic_type\": \"\",\n        \"description\": \"\"\n      }\n    }\n  ]\n}"
            }
          },
          "metadata": {},
          "execution_count": 3
        }
      ]
    },
    {
      "cell_type": "code",
      "source": [
        "df_smile = df_smile.dropna(subset=['category'])\n",
        "print(\"Unique class labels:\", df_smile['category'].unique())"
      ],
      "metadata": {
        "colab": {
          "base_uri": "https://localhost:8080/"
        },
        "id": "hxzcUHAf1F8S",
        "outputId": "6bee21ac-41fe-4ace-ea54-1794c74eb199"
      },
      "execution_count": null,
      "outputs": [
        {
          "output_type": "stream",
          "name": "stdout",
          "text": [
            "Unique class labels: ['Neutral' 'Positive' 'Negative']\n"
          ]
        }
      ]
    },
    {
      "cell_type": "code",
      "source": [
        "!gdown --id \"0B7XkCwpI5KDYNlNUTTlSS21pQmM\""
      ],
      "metadata": {
        "colab": {
          "base_uri": "https://localhost:8080/"
        },
        "id": "rYXAFccn1trB",
        "outputId": "40f13cc0-8ad3-4438-b378-cc5e76b0ecca"
      },
      "execution_count": null,
      "outputs": [
        {
          "output_type": "stream",
          "name": "stdout",
          "text": [
            "/usr/local/lib/python3.10/dist-packages/gdown/__main__.py:132: FutureWarning: Option `--id` was deprecated in version 4.3.1 and will be removed in 5.0. You don't need to pass it anymore to use a file ID.\n",
            "  warnings.warn(\n",
            "Downloading...\n",
            "From (original): https://drive.google.com/uc?id=0B7XkCwpI5KDYNlNUTTlSS21pQmM\n",
            "From (redirected): https://drive.google.com/uc?id=0B7XkCwpI5KDYNlNUTTlSS21pQmM&confirm=t&uuid=eb396186-f72f-4c6a-8d99-db0649c9de9e\n",
            "To: /content/GoogleNews-vectors-negative300.bin.gz\n",
            "100% 1.65G/1.65G [00:13<00:00, 121MB/s]\n"
          ]
        }
      ]
    },
    {
      "cell_type": "code",
      "source": [
        "word_vectors = KeyedVectors.load_word2vec_format('/content/GoogleNews-vectors-negative300.bin.gz', binary=True)"
      ],
      "metadata": {
        "id": "o30hr0TI0yoJ"
      },
      "execution_count": null,
      "outputs": []
    },
    {
      "cell_type": "code",
      "source": [
        "def vectorize_sentence(sentence, max_length=39):\n",
        "    words = sentence.split()\n",
        "    vectorized = []\n",
        "    for word in words:\n",
        "        if word in word_vectors:\n",
        "            vectorized.append(word_vectors[word])\n",
        "        else:\n",
        "            vectorized.append(np.zeros(300))\n",
        "    if len(vectorized) > max_length:\n",
        "        vectorized = vectorized[:max_length]\n",
        "    elif len(vectorized) < max_length:\n",
        "        vectorized.extend([np.zeros(300) for _ in range(max_length - len(vectorized))])\n",
        "    return np.array(vectorized)\n",
        "\n",
        "X = np.array([vectorize_sentence(sentence) for sentence in df_smile['text']])\n"
      ],
      "metadata": {
        "id": "DHthdbRs3fAW"
      },
      "execution_count": null,
      "outputs": []
    },
    {
      "cell_type": "code",
      "source": [
        "\n",
        "le = LabelEncoder()\n",
        "y = le.fit_transform(df_smile['category'])\n",
        "y = to_categorical(y)\n",
        "\n",
        "\n",
        "X_train, X_test, y_train, y_test = train_test_split(X, y, test_size=0.2, random_state=42)\n"
      ],
      "metadata": {
        "id": "HcQPG1bj2c2R"
      },
      "execution_count": null,
      "outputs": []
    },
    {
      "cell_type": "code",
      "source": [
        "from tensorflow.keras.regularizers import l2\n",
        "from tensorflow.keras.models import Sequential\n",
        "from tensorflow.keras.layers import Conv1D, GlobalMaxPooling1D, Dense, Dropout, PReLU, MaxPooling1D\n",
        "\n",
        "\n",
        "model = Sequential()\n",
        "\n",
        "model.add(Conv1D(50, kernel_size=4, strides=1, input_shape=(39, 300), kernel_regularizer=l2(0.001)))\n",
        "model.add(PReLU())\n",
        "model.add(Dropout(0.5))\n",
        "model.add(MaxPooling1D(pool_size=2))\n",
        "\n",
        "\n",
        "model.add(Conv1D(100, kernel_size=5, strides=1, kernel_regularizer=l2(0.001)))\n",
        "model.add(PReLU())\n",
        "model.add(Dropout(0.5))\n",
        "model.add(MaxPooling1D(pool_size=2))\n",
        "\n",
        "\n",
        "model.add(GlobalMaxPooling1D())\n",
        "\n",
        "\n",
        "model.add(Dense(y_train.shape[1], activation='softmax', kernel_regularizer=l2(0.01)))\n",
        "\n",
        "\n",
        "model.compile(loss='categorical_crossentropy', optimizer='adam', metrics=['accuracy'])\n",
        "\n",
        "model.summary()"
      ],
      "metadata": {
        "colab": {
          "base_uri": "https://localhost:8080/"
        },
        "id": "sX6MFXBj2tLY",
        "outputId": "9045c071-49a3-44be-9392-391c29cca310"
      },
      "execution_count": null,
      "outputs": [
        {
          "output_type": "stream",
          "name": "stdout",
          "text": [
            "Model: \"sequential_2\"\n",
            "_________________________________________________________________\n",
            " Layer (type)                Output Shape              Param #   \n",
            "=================================================================\n",
            " conv1d_3 (Conv1D)           (None, 36, 50)            60050     \n",
            "                                                                 \n",
            " p_re_lu_3 (PReLU)           (None, 36, 50)            1800      \n",
            "                                                                 \n",
            " dropout_3 (Dropout)         (None, 36, 50)            0         \n",
            "                                                                 \n",
            " max_pooling1d_2 (MaxPoolin  (None, 18, 50)            0         \n",
            " g1D)                                                            \n",
            "                                                                 \n",
            " conv1d_4 (Conv1D)           (None, 14, 100)           25100     \n",
            "                                                                 \n",
            " p_re_lu_4 (PReLU)           (None, 14, 100)           1400      \n",
            "                                                                 \n",
            " dropout_4 (Dropout)         (None, 14, 100)           0         \n",
            "                                                                 \n",
            " max_pooling1d_3 (MaxPoolin  (None, 7, 100)            0         \n",
            " g1D)                                                            \n",
            "                                                                 \n",
            " global_max_pooling1d_1 (Gl  (None, 100)               0         \n",
            " obalMaxPooling1D)                                               \n",
            "                                                                 \n",
            " dense_1 (Dense)             (None, 3)                 303       \n",
            "                                                                 \n",
            "=================================================================\n",
            "Total params: 88653 (346.30 KB)\n",
            "Trainable params: 88653 (346.30 KB)\n",
            "Non-trainable params: 0 (0.00 Byte)\n",
            "_________________________________________________________________\n"
          ]
        }
      ]
    },
    {
      "cell_type": "code",
      "source": [
        "from tensorflow.keras.utils import plot_model\n",
        "plot_model(model, to_file='model_architecture.png', show_shapes=True, show_layer_names=True)"
      ],
      "metadata": {
        "colab": {
          "base_uri": "https://localhost:8080/",
          "height": 1000
        },
        "id": "hzBQH70f3moF",
        "outputId": "9d095d79-b3a5-4c49-fe5a-31602c1df78e"
      },
      "execution_count": null,
      "outputs": [
        {
          "output_type": "execute_result",
          "data": {
            "image/png": "[encoded data removed]",
            "text/plain": [
              "<IPython.core.display.Image object>"
            ]
          },
          "metadata": {},
          "execution_count": 16
        }
      ]
    },
    {
      "cell_type": "code",
      "source": [
        "\n",
        "history = model.fit(X_train, y_train, batch_size=10, epochs=10, validation_data=(X_test, y_test))\n"
      ],
      "metadata": {
        "colab": {
          "base_uri": "https://localhost:8080/"
        },
        "id": "gdAZtK6v4E78",
        "outputId": "6e238e01-92b6-4efc-fc82-bb06f1c618da"
      },
      "execution_count": null,
      "outputs": [
        {
          "output_type": "stream",
          "name": "stdout",
          "text": [
            "Epoch 1/10\n",
            "246/246 [==============================] - 4s 12ms/step - loss: 0.8823 - accuracy: 0.7145 - val_loss: 0.8518 - val_accuracy: 0.7837\n",
            "Epoch 2/10\n",
            "246/246 [==============================] - 3s 10ms/step - loss: 0.6781 - accuracy: 0.8081 - val_loss: 0.7213 - val_accuracy: 0.8260\n",
            "Epoch 3/10\n",
            "246/246 [==============================] - 3s 13ms/step - loss: 0.5828 - accuracy: 0.8459 - val_loss: 0.6722 - val_accuracy: 0.8341\n",
            "Epoch 4/10\n",
            "246/246 [==============================] - 3s 12ms/step - loss: 0.5333 - accuracy: 0.8625 - val_loss: 0.6976 - val_accuracy: 0.8211\n",
            "Epoch 5/10\n",
            "246/246 [==============================] - 3s 10ms/step - loss: 0.4858 - accuracy: 0.8808 - val_loss: 0.6670 - val_accuracy: 0.8260\n",
            "Epoch 6/10\n",
            "246/246 [==============================] - 3s 11ms/step - loss: 0.4601 - accuracy: 0.8947 - val_loss: 0.6859 - val_accuracy: 0.8276\n",
            "Epoch 7/10\n",
            "246/246 [==============================] - 3s 11ms/step - loss: 0.4239 - accuracy: 0.9089 - val_loss: 0.6964 - val_accuracy: 0.8033\n",
            "Epoch 8/10\n",
            "246/246 [==============================] - 4s 15ms/step - loss: 0.3907 - accuracy: 0.9292 - val_loss: 0.6653 - val_accuracy: 0.8244\n",
            "Epoch 9/10\n",
            "246/246 [==============================] - 2s 10ms/step - loss: 0.3847 - accuracy: 0.9349 - val_loss: 0.7708 - val_accuracy: 0.7593\n",
            "Epoch 10/10\n",
            "246/246 [==============================] - 3s 11ms/step - loss: 0.3740 - accuracy: 0.9402 - val_loss: 0.6801 - val_accuracy: 0.8114\n"
          ]
        }
      ]
    },
    {
      "cell_type": "code",
      "source": [
        "model.save('/content/PaperCNN.keras')"
      ],
      "metadata": {
        "id": "UIJ0EcpTSvBR"
      },
      "execution_count": null,
      "outputs": []
    },
    {
      "cell_type": "code",
      "source": [
        "from sklearn.metrics import confusion_matrix, classification_report,ConfusionMatrixDisplay\n",
        "import numpy as np\n",
        "\n",
        "\n",
        "predictions = model.predict(X_test)\n",
        "\n",
        "\n",
        "predicted_classes = np.argmax(predictions, axis=1)\n",
        "true_classes = np.argmax(y_test, axis=1)\n",
        "\n",
        "conf_matrix = confusion_matrix(true_classes, predicted_classes)\n",
        "print(\"Confusion Matrix:\")\n",
        "print(conf_matrix)\n",
        "conf_matrix2 = ConfusionMatrixDisplay(confusion_matrix=conf_matrix)\n",
        "print(conf_matrix2)\n",
        "\n",
        "\n",
        "report = classification_report(true_classes, predicted_classes, target_names=[\"Positive\",\"Negative\",\"Neutral\"])\n",
        "print(\"Classification Report:\")\n",
        "print(report)\n",
        "\n",
        "from sklearn.metrics import accuracy_score, precision_score, recall_score, f1_score\n",
        "\n",
        "accuracy = accuracy_score(true_classes, predicted_classes)\n",
        "precision = precision_score(true_classes, predicted_classes, average='weighted')\n",
        "recall = recall_score(true_classes, predicted_classes, average='weighted')\n",
        "f1 = f1_score(true_classes, predicted_classes, average='weighted')\n",
        "\n",
        "print(f\"Accuracy: {accuracy:.5f}\")\n",
        "print(f\"Precision: {precision:.5f}\")\n",
        "print(f\"Recall: {recall:.5f}\")\n",
        "print(f\"F1 Score: {f1:.5f}\")\n"
      ],
      "metadata": {
        "colab": {
          "base_uri": "https://localhost:8080/"
        },
        "id": "LdaBigRx4K-8",
        "outputId": "17db4cf0-6cb7-47ce-c58e-a11f5682fce2"
      },
      "execution_count": null,
      "outputs": [
        {
          "output_type": "stream",
          "name": "stdout",
          "text": [
            "20/20 [==============================] - 0s 7ms/step\n",
            "Confusion Matrix:\n",
            "[[  3   7   3]\n",
            " [  1 316  61]\n",
            " [  0  44 180]]\n",
            "<sklearn.metrics._plot.confusion_matrix.ConfusionMatrixDisplay object at 0x7e24e6b1bbb0>\n",
            "Classification Report:\n",
            "              precision    recall  f1-score   support\n",
            "\n",
            "    Positive       0.75      0.23      0.35        13\n",
            "    Negative       0.86      0.84      0.85       378\n",
            "     Neutral       0.74      0.80      0.77       224\n",
            "\n",
            "    accuracy                           0.81       615\n",
            "   macro avg       0.78      0.62      0.66       615\n",
            "weighted avg       0.81      0.81      0.81       615\n",
            "\n",
            "Accuracy: 0.81138\n",
            "Precision: 0.81377\n",
            "Recall: 0.81138\n",
            "F1 Score: 0.80904\n"
          ]
        }
      ]
    },
    {
      "cell_type": "code",
      "source": [],
      "metadata": {
        "id": "zzE0Xude4U4N"
      },
      "execution_count": null,
      "outputs": []
    }
  ]
}